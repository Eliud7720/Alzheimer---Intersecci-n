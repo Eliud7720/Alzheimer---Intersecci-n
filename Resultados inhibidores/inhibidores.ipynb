{
 "cells": [
  {
   "cell_type": "markdown",
   "metadata": {},
   "source": [
    "# EGFR_MAPK1_SRC\n",
    "<hr>"
   ]
  },
  {
   "cell_type": "code",
   "execution_count": 1,
   "metadata": {},
   "outputs": [],
   "source": [
    "import pandas as pd"
   ]
  },
  {
   "cell_type": "code",
   "execution_count": 2,
   "metadata": {},
   "outputs": [],
   "source": [
    "EGFR_ESR1_MAPK1 = pd.read_csv(\"../Resultados intersección/U_EGFR_MAPK1_SRC.csv\")"
   ]
  },
  {
   "cell_type": "code",
   "execution_count": 7,
   "metadata": {},
   "outputs": [
    {
     "data": {
      "text/html": [
       "<div>\n",
       "<style scoped>\n",
       "    .dataframe tbody tr th:only-of-type {\n",
       "        vertical-align: middle;\n",
       "    }\n",
       "\n",
       "    .dataframe tbody tr th {\n",
       "        vertical-align: top;\n",
       "    }\n",
       "\n",
       "    .dataframe thead th {\n",
       "        text-align: right;\n",
       "    }\n",
       "</style>\n",
       "<table border=\"1\" class=\"dataframe\">\n",
       "  <thead>\n",
       "    <tr style=\"text-align: right;\">\n",
       "      <th></th>\n",
       "      <th>Molecule ChEMBL ID</th>\n",
       "      <th>Smiles</th>\n",
       "      <th>IC50 EGFR</th>\n",
       "      <th>IC50 MAPK1</th>\n",
       "      <th>IC50 SRC</th>\n",
       "    </tr>\n",
       "  </thead>\n",
       "  <tbody>\n",
       "    <tr>\n",
       "      <th>0</th>\n",
       "      <td>CHEMBL3884319</td>\n",
       "      <td>CC1(C)C(=O)N([C@H]2CCc3c(O)cccc32)c2nc(Nc3cccc...</td>\n",
       "      <td>10000.0</td>\n",
       "      <td>1826.0</td>\n",
       "      <td>668.00</td>\n",
       "    </tr>\n",
       "    <tr>\n",
       "      <th>1</th>\n",
       "      <td>CHEMBL388978</td>\n",
       "      <td>CN[C@@H]1C[C@H]2O[C@@](C)([C@@H]1OC)n1c3ccccc3...</td>\n",
       "      <td>78.0</td>\n",
       "      <td>370.0</td>\n",
       "      <td>9.70</td>\n",
       "    </tr>\n",
       "    <tr>\n",
       "      <th>2</th>\n",
       "      <td>CHEMBL103667</td>\n",
       "      <td>Cc1ccc(-n2nc(C(C)(C)C)cc2NC(=O)Nc2ccc(OCCN3CCO...</td>\n",
       "      <td>3800.0</td>\n",
       "      <td>9200.0</td>\n",
       "      <td>35000.00</td>\n",
       "    </tr>\n",
       "    <tr>\n",
       "      <th>3</th>\n",
       "      <td>CHEMBL4550702</td>\n",
       "      <td>Cn1cc(-c2cnc3c(-c4csc(C(=O)NCC(F)(F)F)c4)cnn3c...</td>\n",
       "      <td>28000.0</td>\n",
       "      <td>18000.0</td>\n",
       "      <td>42.00</td>\n",
       "    </tr>\n",
       "    <tr>\n",
       "      <th>4</th>\n",
       "      <td>CHEMBL1684800</td>\n",
       "      <td>COc1ccc(Cn2ncc(NC(=O)c3cc(NC(=O)Nc4ccc(Cl)c(C(...</td>\n",
       "      <td>101.4</td>\n",
       "      <td>11380.0</td>\n",
       "      <td>4.79</td>\n",
       "    </tr>\n",
       "    <tr>\n",
       "      <th>5</th>\n",
       "      <td>CHEMBL4062877</td>\n",
       "      <td>Cc1n[nH]c2ccc(-c3cc(N[C@@H](CO)c4ccccc4)cnc3-c...</td>\n",
       "      <td>5.3</td>\n",
       "      <td>574.7</td>\n",
       "      <td>5.70</td>\n",
       "    </tr>\n",
       "    <tr>\n",
       "      <th>6</th>\n",
       "      <td>CHEMBL4105329</td>\n",
       "      <td>Cc1n[nH]c2ccc(-c3cc(N[C@@H](CO)c4ccccc4)cnc3-c...</td>\n",
       "      <td>3.1</td>\n",
       "      <td>960.2</td>\n",
       "      <td>3.90</td>\n",
       "    </tr>\n",
       "    <tr>\n",
       "      <th>7</th>\n",
       "      <td>CHEMBL4568087</td>\n",
       "      <td>Cn1cc(-c2cnc3c(-c4csc(C(=O)N[C@@H]5CCCC[C@@H]5...</td>\n",
       "      <td>340.0</td>\n",
       "      <td>230.0</td>\n",
       "      <td>3.00</td>\n",
       "    </tr>\n",
       "    <tr>\n",
       "      <th>8</th>\n",
       "      <td>CHEMBL4446681</td>\n",
       "      <td>CN(CCc1ccc(-c2ccccc2)cc1)Cc1cn(C)c2ccc(C(=O)Nc...</td>\n",
       "      <td>10000.0</td>\n",
       "      <td>66000.0</td>\n",
       "      <td>8800.00</td>\n",
       "    </tr>\n",
       "    <tr>\n",
       "      <th>9</th>\n",
       "      <td>CHEMBL4569508</td>\n",
       "      <td>O=C(NCC(F)(F)F)c1cc(-c2cnn3cc(-c4ccc(OCCN5CCCC...</td>\n",
       "      <td>1100.0</td>\n",
       "      <td>12000.0</td>\n",
       "      <td>37.00</td>\n",
       "    </tr>\n",
       "  </tbody>\n",
       "</table>\n",
       "</div>"
      ],
      "text/plain": [
       "  Molecule ChEMBL ID                                             Smiles  \\\n",
       "0      CHEMBL3884319  CC1(C)C(=O)N([C@H]2CCc3c(O)cccc32)c2nc(Nc3cccc...   \n",
       "1       CHEMBL388978  CN[C@@H]1C[C@H]2O[C@@](C)([C@@H]1OC)n1c3ccccc3...   \n",
       "2       CHEMBL103667  Cc1ccc(-n2nc(C(C)(C)C)cc2NC(=O)Nc2ccc(OCCN3CCO...   \n",
       "3      CHEMBL4550702  Cn1cc(-c2cnc3c(-c4csc(C(=O)NCC(F)(F)F)c4)cnn3c...   \n",
       "4      CHEMBL1684800  COc1ccc(Cn2ncc(NC(=O)c3cc(NC(=O)Nc4ccc(Cl)c(C(...   \n",
       "5      CHEMBL4062877  Cc1n[nH]c2ccc(-c3cc(N[C@@H](CO)c4ccccc4)cnc3-c...   \n",
       "6      CHEMBL4105329  Cc1n[nH]c2ccc(-c3cc(N[C@@H](CO)c4ccccc4)cnc3-c...   \n",
       "7      CHEMBL4568087  Cn1cc(-c2cnc3c(-c4csc(C(=O)N[C@@H]5CCCC[C@@H]5...   \n",
       "8      CHEMBL4446681  CN(CCc1ccc(-c2ccccc2)cc1)Cc1cn(C)c2ccc(C(=O)Nc...   \n",
       "9      CHEMBL4569508  O=C(NCC(F)(F)F)c1cc(-c2cnn3cc(-c4ccc(OCCN5CCCC...   \n",
       "\n",
       "   IC50 EGFR  IC50 MAPK1  IC50 SRC  \n",
       "0    10000.0      1826.0    668.00  \n",
       "1       78.0       370.0      9.70  \n",
       "2     3800.0      9200.0  35000.00  \n",
       "3    28000.0     18000.0     42.00  \n",
       "4      101.4     11380.0      4.79  \n",
       "5        5.3       574.7      5.70  \n",
       "6        3.1       960.2      3.90  \n",
       "7      340.0       230.0      3.00  \n",
       "8    10000.0     66000.0   8800.00  \n",
       "9     1100.0     12000.0     37.00  "
      ]
     },
     "execution_count": 7,
     "metadata": {},
     "output_type": "execute_result"
    }
   ],
   "source": [
    "EGFR_ESR1_MAPK1"
   ]
  },
  {
   "cell_type": "code",
   "execution_count": 11,
   "metadata": {},
   "outputs": [],
   "source": [
    "i_EGFR_ESR1_MAPK1 = EGFR_ESR1_MAPK1[(EGFR_ESR1_MAPK1[\"IC50 EGFR\"] <= 1000) & (EGFR_ESR1_MAPK1[\"IC50 MAPK1\"] <= 1000) & (EGFR_ESR1_MAPK1[\"IC50 SRC\"] <= 1000)].copy()"
   ]
  },
  {
   "cell_type": "code",
   "execution_count": 12,
   "metadata": {},
   "outputs": [
    {
     "data": {
      "text/html": [
       "<div>\n",
       "<style scoped>\n",
       "    .dataframe tbody tr th:only-of-type {\n",
       "        vertical-align: middle;\n",
       "    }\n",
       "\n",
       "    .dataframe tbody tr th {\n",
       "        vertical-align: top;\n",
       "    }\n",
       "\n",
       "    .dataframe thead th {\n",
       "        text-align: right;\n",
       "    }\n",
       "</style>\n",
       "<table border=\"1\" class=\"dataframe\">\n",
       "  <thead>\n",
       "    <tr style=\"text-align: right;\">\n",
       "      <th></th>\n",
       "      <th>Molecule ChEMBL ID</th>\n",
       "      <th>Smiles</th>\n",
       "      <th>IC50 EGFR</th>\n",
       "      <th>IC50 MAPK1</th>\n",
       "      <th>IC50 SRC</th>\n",
       "    </tr>\n",
       "  </thead>\n",
       "  <tbody>\n",
       "    <tr>\n",
       "      <th>1</th>\n",
       "      <td>CHEMBL388978</td>\n",
       "      <td>CN[C@@H]1C[C@H]2O[C@@](C)([C@@H]1OC)n1c3ccccc3...</td>\n",
       "      <td>78.0</td>\n",
       "      <td>370.0</td>\n",
       "      <td>9.7</td>\n",
       "    </tr>\n",
       "    <tr>\n",
       "      <th>5</th>\n",
       "      <td>CHEMBL4062877</td>\n",
       "      <td>Cc1n[nH]c2ccc(-c3cc(N[C@@H](CO)c4ccccc4)cnc3-c...</td>\n",
       "      <td>5.3</td>\n",
       "      <td>574.7</td>\n",
       "      <td>5.7</td>\n",
       "    </tr>\n",
       "    <tr>\n",
       "      <th>6</th>\n",
       "      <td>CHEMBL4105329</td>\n",
       "      <td>Cc1n[nH]c2ccc(-c3cc(N[C@@H](CO)c4ccccc4)cnc3-c...</td>\n",
       "      <td>3.1</td>\n",
       "      <td>960.2</td>\n",
       "      <td>3.9</td>\n",
       "    </tr>\n",
       "    <tr>\n",
       "      <th>7</th>\n",
       "      <td>CHEMBL4568087</td>\n",
       "      <td>Cn1cc(-c2cnc3c(-c4csc(C(=O)N[C@@H]5CCCC[C@@H]5...</td>\n",
       "      <td>340.0</td>\n",
       "      <td>230.0</td>\n",
       "      <td>3.0</td>\n",
       "    </tr>\n",
       "  </tbody>\n",
       "</table>\n",
       "</div>"
      ],
      "text/plain": [
       "  Molecule ChEMBL ID                                             Smiles  \\\n",
       "1       CHEMBL388978  CN[C@@H]1C[C@H]2O[C@@](C)([C@@H]1OC)n1c3ccccc3...   \n",
       "5      CHEMBL4062877  Cc1n[nH]c2ccc(-c3cc(N[C@@H](CO)c4ccccc4)cnc3-c...   \n",
       "6      CHEMBL4105329  Cc1n[nH]c2ccc(-c3cc(N[C@@H](CO)c4ccccc4)cnc3-c...   \n",
       "7      CHEMBL4568087  Cn1cc(-c2cnc3c(-c4csc(C(=O)N[C@@H]5CCCC[C@@H]5...   \n",
       "\n",
       "   IC50 EGFR  IC50 MAPK1  IC50 SRC  \n",
       "1       78.0       370.0       9.7  \n",
       "5        5.3       574.7       5.7  \n",
       "6        3.1       960.2       3.9  \n",
       "7      340.0       230.0       3.0  "
      ]
     },
     "execution_count": 12,
     "metadata": {},
     "output_type": "execute_result"
    }
   ],
   "source": [
    "i_EGFR_ESR1_MAPK1"
   ]
  },
  {
   "cell_type": "code",
   "execution_count": 13,
   "metadata": {},
   "outputs": [],
   "source": [
    "i_EGFR_ESR1_MAPK1.to_csv(\"i_EGFR_ESR1_MAPK1.csv\", index=False)"
   ]
  },
  {
   "cell_type": "markdown",
   "metadata": {},
   "source": [
    "# EGFR_MAPK1\n",
    "<hr>"
   ]
  },
  {
   "cell_type": "code",
   "execution_count": 23,
   "metadata": {},
   "outputs": [],
   "source": [
    "EGFR_MAPK1 = pd.read_csv(\"../Resultados intersección/U_EGFR_MAPK1.csv\")"
   ]
  },
  {
   "cell_type": "code",
   "execution_count": 25,
   "metadata": {},
   "outputs": [
    {
     "data": {
      "text/html": [
       "<div>\n",
       "<style scoped>\n",
       "    .dataframe tbody tr th:only-of-type {\n",
       "        vertical-align: middle;\n",
       "    }\n",
       "\n",
       "    .dataframe tbody tr th {\n",
       "        vertical-align: top;\n",
       "    }\n",
       "\n",
       "    .dataframe thead th {\n",
       "        text-align: right;\n",
       "    }\n",
       "</style>\n",
       "<table border=\"1\" class=\"dataframe\">\n",
       "  <thead>\n",
       "    <tr style=\"text-align: right;\">\n",
       "      <th></th>\n",
       "      <th>Molecule ChEMBL ID</th>\n",
       "      <th>Smiles</th>\n",
       "      <th>IC50 EGFR</th>\n",
       "      <th>IC50 MAPK1</th>\n",
       "    </tr>\n",
       "  </thead>\n",
       "  <tbody>\n",
       "    <tr>\n",
       "      <th>0</th>\n",
       "      <td>CHEMBL24944</td>\n",
       "      <td>O=C(Nc1ccc(Br)cc1)c1cc(Br)cc(Br)c1O</td>\n",
       "      <td>2987.0</td>\n",
       "      <td>623.0</td>\n",
       "    </tr>\n",
       "    <tr>\n",
       "      <th>1</th>\n",
       "      <td>CHEMBL3884319</td>\n",
       "      <td>CC1(C)C(=O)N([C@H]2CCc3c(O)cccc32)c2nc(Nc3cccc...</td>\n",
       "      <td>10000.0</td>\n",
       "      <td>1826.0</td>\n",
       "    </tr>\n",
       "    <tr>\n",
       "      <th>2</th>\n",
       "      <td>CHEMBL388978</td>\n",
       "      <td>CN[C@@H]1C[C@H]2O[C@@](C)([C@@H]1OC)n1c3ccccc3...</td>\n",
       "      <td>78.0</td>\n",
       "      <td>370.0</td>\n",
       "    </tr>\n",
       "    <tr>\n",
       "      <th>3</th>\n",
       "      <td>CHEMBL461140</td>\n",
       "      <td>CN(C)CCOc1ccc(/C=C/c2cc(-c3cc4c(=O)[nH]cnc4[nH...</td>\n",
       "      <td>3300.0</td>\n",
       "      <td>2600.0</td>\n",
       "    </tr>\n",
       "    <tr>\n",
       "      <th>4</th>\n",
       "      <td>CHEMBL103667</td>\n",
       "      <td>Cc1ccc(-n2nc(C(C)(C)C)cc2NC(=O)Nc2ccc(OCCN3CCO...</td>\n",
       "      <td>3800.0</td>\n",
       "      <td>9200.0</td>\n",
       "    </tr>\n",
       "  </tbody>\n",
       "</table>\n",
       "</div>"
      ],
      "text/plain": [
       "  Molecule ChEMBL ID                                             Smiles  \\\n",
       "0        CHEMBL24944                O=C(Nc1ccc(Br)cc1)c1cc(Br)cc(Br)c1O   \n",
       "1      CHEMBL3884319  CC1(C)C(=O)N([C@H]2CCc3c(O)cccc32)c2nc(Nc3cccc...   \n",
       "2       CHEMBL388978  CN[C@@H]1C[C@H]2O[C@@](C)([C@@H]1OC)n1c3ccccc3...   \n",
       "3       CHEMBL461140  CN(C)CCOc1ccc(/C=C/c2cc(-c3cc4c(=O)[nH]cnc4[nH...   \n",
       "4       CHEMBL103667  Cc1ccc(-n2nc(C(C)(C)C)cc2NC(=O)Nc2ccc(OCCN3CCO...   \n",
       "\n",
       "   IC50 EGFR  IC50 MAPK1  \n",
       "0     2987.0       623.0  \n",
       "1    10000.0      1826.0  \n",
       "2       78.0       370.0  \n",
       "3     3300.0      2600.0  \n",
       "4     3800.0      9200.0  "
      ]
     },
     "execution_count": 25,
     "metadata": {},
     "output_type": "execute_result"
    }
   ],
   "source": [
    "EGFR_MAPK1.head()"
   ]
  },
  {
   "cell_type": "code",
   "execution_count": 33,
   "metadata": {},
   "outputs": [],
   "source": [
    "i_EGFR_MAPK1 = EGFR_MAPK1[(EGFR_MAPK1[\"IC50 EGFR\"] <= 1000) & (EGFR_MAPK1[\"IC50 MAPK1\"] <= 1000)].copy()"
   ]
  },
  {
   "cell_type": "code",
   "execution_count": 34,
   "metadata": {},
   "outputs": [],
   "source": [
    "i_EGFR_MAPK1.to_csv(\"i_EGFR_MAPK1.csv\", index=False)"
   ]
  },
  {
   "cell_type": "markdown",
   "metadata": {},
   "source": [
    "# EGFR_SRC\n",
    "<hr>"
   ]
  },
  {
   "cell_type": "code",
   "execution_count": 30,
   "metadata": {},
   "outputs": [],
   "source": [
    "EGFR_SRC = pd.read_csv(\"../Resultados intersección/U_EGFR_SRC.csv\")"
   ]
  },
  {
   "cell_type": "code",
   "execution_count": 31,
   "metadata": {},
   "outputs": [
    {
     "data": {
      "text/html": [
       "<div>\n",
       "<style scoped>\n",
       "    .dataframe tbody tr th:only-of-type {\n",
       "        vertical-align: middle;\n",
       "    }\n",
       "\n",
       "    .dataframe tbody tr th {\n",
       "        vertical-align: top;\n",
       "    }\n",
       "\n",
       "    .dataframe thead th {\n",
       "        text-align: right;\n",
       "    }\n",
       "</style>\n",
       "<table border=\"1\" class=\"dataframe\">\n",
       "  <thead>\n",
       "    <tr style=\"text-align: right;\">\n",
       "      <th></th>\n",
       "      <th>Molecule ChEMBL ID</th>\n",
       "      <th>Smiles</th>\n",
       "      <th>IC50 EGFR</th>\n",
       "      <th>IC50 SRC</th>\n",
       "    </tr>\n",
       "  </thead>\n",
       "  <tbody>\n",
       "    <tr>\n",
       "      <th>0</th>\n",
       "      <td>CHEMBL29197</td>\n",
       "      <td>COc1cc2ncnc(Nc3cccc(Br)c3)c2cc1OC</td>\n",
       "      <td>70.0</td>\n",
       "      <td>1400.0</td>\n",
       "    </tr>\n",
       "    <tr>\n",
       "      <th>1</th>\n",
       "      <td>CHEMBL253292</td>\n",
       "      <td>CCN(CC)CCOc1ccc(Nc2cc(NC(=O)Nc3c(Cl)cccc3Cl)nc...</td>\n",
       "      <td>380.0</td>\n",
       "      <td>66.0</td>\n",
       "    </tr>\n",
       "    <tr>\n",
       "      <th>2</th>\n",
       "      <td>CHEMBL301612</td>\n",
       "      <td>Cn1c(=O)c(-c2c(Cl)cccc2Cl)cc2cnc(Nc3ccccc3)nc21</td>\n",
       "      <td>260.0</td>\n",
       "      <td>16.0</td>\n",
       "    </tr>\n",
       "    <tr>\n",
       "      <th>3</th>\n",
       "      <td>CHEMBL45827</td>\n",
       "      <td>CCN(CC)CCCCNc1ncc2cc(-c3c(Cl)cccc3Cl)c(NC(=O)N...</td>\n",
       "      <td>240.0</td>\n",
       "      <td>44.0</td>\n",
       "    </tr>\n",
       "    <tr>\n",
       "      <th>4</th>\n",
       "      <td>CHEMBL263528</td>\n",
       "      <td>NC(=O)CN1CCC(n2cc(-c3cccc(O)c3)c3c(N)ncnc32)CC1</td>\n",
       "      <td>170.0</td>\n",
       "      <td>1.0</td>\n",
       "    </tr>\n",
       "  </tbody>\n",
       "</table>\n",
       "</div>"
      ],
      "text/plain": [
       "  Molecule ChEMBL ID                                             Smiles  \\\n",
       "0        CHEMBL29197                  COc1cc2ncnc(Nc3cccc(Br)c3)c2cc1OC   \n",
       "1       CHEMBL253292  CCN(CC)CCOc1ccc(Nc2cc(NC(=O)Nc3c(Cl)cccc3Cl)nc...   \n",
       "2       CHEMBL301612    Cn1c(=O)c(-c2c(Cl)cccc2Cl)cc2cnc(Nc3ccccc3)nc21   \n",
       "3        CHEMBL45827  CCN(CC)CCCCNc1ncc2cc(-c3c(Cl)cccc3Cl)c(NC(=O)N...   \n",
       "4       CHEMBL263528    NC(=O)CN1CCC(n2cc(-c3cccc(O)c3)c3c(N)ncnc32)CC1   \n",
       "\n",
       "   IC50 EGFR  IC50 SRC  \n",
       "0       70.0    1400.0  \n",
       "1      380.0      66.0  \n",
       "2      260.0      16.0  \n",
       "3      240.0      44.0  \n",
       "4      170.0       1.0  "
      ]
     },
     "execution_count": 31,
     "metadata": {},
     "output_type": "execute_result"
    }
   ],
   "source": [
    "EGFR_SRC.head()"
   ]
  },
  {
   "cell_type": "code",
   "execution_count": 38,
   "metadata": {},
   "outputs": [],
   "source": [
    "i_EGFR_SRC = EGFR_SRC[(EGFR_SRC[\"IC50 EGFR\"] <=1000) & (EGFR_SRC[\"IC50 SRC\"] <=1000)].copy()"
   ]
  },
  {
   "cell_type": "code",
   "execution_count": 40,
   "metadata": {},
   "outputs": [],
   "source": [
    "i_EGFR_SRC.to_csv(\"i_EGFR_SRC.csv\", index= False)"
   ]
  },
  {
   "cell_type": "markdown",
   "metadata": {},
   "source": [
    "# MAPK1 SRC\n",
    "<hr>"
   ]
  },
  {
   "cell_type": "code",
   "execution_count": 41,
   "metadata": {},
   "outputs": [],
   "source": [
    "MAPK1_SRC = pd.read_csv(\"../Resultados intersección/U_MAPK1_SRC.csv\")"
   ]
  },
  {
   "cell_type": "code",
   "execution_count": 43,
   "metadata": {},
   "outputs": [
    {
     "data": {
      "text/html": [
       "<div>\n",
       "<style scoped>\n",
       "    .dataframe tbody tr th:only-of-type {\n",
       "        vertical-align: middle;\n",
       "    }\n",
       "\n",
       "    .dataframe tbody tr th {\n",
       "        vertical-align: top;\n",
       "    }\n",
       "\n",
       "    .dataframe thead th {\n",
       "        text-align: right;\n",
       "    }\n",
       "</style>\n",
       "<table border=\"1\" class=\"dataframe\">\n",
       "  <thead>\n",
       "    <tr style=\"text-align: right;\">\n",
       "      <th></th>\n",
       "      <th>Molecule ChEMBL ID</th>\n",
       "      <th>Smiles</th>\n",
       "      <th>IC50 MAPK1</th>\n",
       "      <th>IC50 SRC</th>\n",
       "    </tr>\n",
       "  </thead>\n",
       "  <tbody>\n",
       "    <tr>\n",
       "      <th>0</th>\n",
       "      <td>CHEMBL2420911</td>\n",
       "      <td>c1nc(N2CCC3(CCCNC3)CC2)c2nc[nH]c2n1</td>\n",
       "      <td>38000.0</td>\n",
       "      <td>18000.0</td>\n",
       "    </tr>\n",
       "    <tr>\n",
       "      <th>1</th>\n",
       "      <td>CHEMBL210390</td>\n",
       "      <td>Nc1cc2cc(-c3cncc(OC[C@@H](N)Cc4c[nH]c5ccccc45)...</td>\n",
       "      <td>1200.0</td>\n",
       "      <td>480.0</td>\n",
       "    </tr>\n",
       "    <tr>\n",
       "      <th>2</th>\n",
       "      <td>CHEMBL383264</td>\n",
       "      <td>N[C@H](COc1cncc(-c2ccc3cnccc3c2)c1)Cc1c[nH]c2c...</td>\n",
       "      <td>910.0</td>\n",
       "      <td>2000.0</td>\n",
       "    </tr>\n",
       "    <tr>\n",
       "      <th>3</th>\n",
       "      <td>CHEMBL388978</td>\n",
       "      <td>CN[C@@H]1C[C@H]2O[C@@](C)([C@@H]1OC)n1c3ccccc3...</td>\n",
       "      <td>370.0</td>\n",
       "      <td>9.7</td>\n",
       "    </tr>\n",
       "    <tr>\n",
       "      <th>4</th>\n",
       "      <td>CHEMBL4550702</td>\n",
       "      <td>Cn1cc(-c2cnc3c(-c4csc(C(=O)NCC(F)(F)F)c4)cnn3c...</td>\n",
       "      <td>18000.0</td>\n",
       "      <td>42.0</td>\n",
       "    </tr>\n",
       "  </tbody>\n",
       "</table>\n",
       "</div>"
      ],
      "text/plain": [
       "  Molecule ChEMBL ID                                             Smiles  \\\n",
       "0      CHEMBL2420911                c1nc(N2CCC3(CCCNC3)CC2)c2nc[nH]c2n1   \n",
       "1       CHEMBL210390  Nc1cc2cc(-c3cncc(OC[C@@H](N)Cc4c[nH]c5ccccc45)...   \n",
       "2       CHEMBL383264  N[C@H](COc1cncc(-c2ccc3cnccc3c2)c1)Cc1c[nH]c2c...   \n",
       "3       CHEMBL388978  CN[C@@H]1C[C@H]2O[C@@](C)([C@@H]1OC)n1c3ccccc3...   \n",
       "4      CHEMBL4550702  Cn1cc(-c2cnc3c(-c4csc(C(=O)NCC(F)(F)F)c4)cnn3c...   \n",
       "\n",
       "   IC50 MAPK1  IC50 SRC  \n",
       "0     38000.0   18000.0  \n",
       "1      1200.0     480.0  \n",
       "2       910.0    2000.0  \n",
       "3       370.0       9.7  \n",
       "4     18000.0      42.0  "
      ]
     },
     "execution_count": 43,
     "metadata": {},
     "output_type": "execute_result"
    }
   ],
   "source": [
    "MAPK1_SRC.head()"
   ]
  },
  {
   "cell_type": "code",
   "execution_count": 47,
   "metadata": {},
   "outputs": [],
   "source": [
    "i_MAPK1_SRC = MAPK1_SRC[(MAPK1_SRC[\"IC50 MAPK1\"] <= 1000) & (MAPK1_SRC[\"IC50 SRC\"] <= 1000)].copy()"
   ]
  },
  {
   "cell_type": "code",
   "execution_count": 49,
   "metadata": {},
   "outputs": [],
   "source": [
    "i_MAPK1_SRC.to_csv(\"i_MAPK1_SRC.csv\", index=False)"
   ]
  },
  {
   "cell_type": "code",
   "execution_count": null,
   "metadata": {},
   "outputs": [],
   "source": []
  }
 ],
 "metadata": {
  "kernelspec": {
   "display_name": "Python 3",
   "language": "python",
   "name": "python3"
  },
  "language_info": {
   "codemirror_mode": {
    "name": "ipython",
    "version": 3
   },
   "file_extension": ".py",
   "mimetype": "text/x-python",
   "name": "python",
   "nbconvert_exporter": "python",
   "pygments_lexer": "ipython3",
   "version": "3.11.0"
  }
 },
 "nbformat": 4,
 "nbformat_minor": 2
}
