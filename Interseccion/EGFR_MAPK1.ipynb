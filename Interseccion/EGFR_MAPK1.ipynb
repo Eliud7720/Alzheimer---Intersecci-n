{
 "cells": [
  {
   "cell_type": "markdown",
   "metadata": {},
   "source": [
    "# Cargar datos\n",
    "<hr>"
   ]
  },
  {
   "cell_type": "code",
   "execution_count": 1,
   "metadata": {},
   "outputs": [],
   "source": [
    "import pandas as pd"
   ]
  },
  {
   "cell_type": "code",
   "execution_count": 2,
   "metadata": {},
   "outputs": [],
   "source": [
    "EGFR = pd.read_csv(\"../Limpios/EGFR_limpio.csv\")"
   ]
  },
  {
   "cell_type": "code",
   "execution_count": 3,
   "metadata": {},
   "outputs": [],
   "source": [
    "MAPK1 = pd.read_csv(\"../Limpios/MAPK1_limpio.csv\")"
   ]
  },
  {
   "cell_type": "markdown",
   "metadata": {},
   "source": [
    "# Seleccionar columnas\n",
    "<hr>"
   ]
  },
  {
   "cell_type": "code",
   "execution_count": 4,
   "metadata": {},
   "outputs": [],
   "source": [
    "EGFR = EGFR[[\"Molecule ChEMBL ID\", 'Smiles',  'Standard Value']]"
   ]
  },
  {
   "cell_type": "code",
   "execution_count": 5,
   "metadata": {},
   "outputs": [],
   "source": [
    "MAPK1 = MAPK1[[\"Molecule ChEMBL ID\", 'Standard Value']]"
   ]
  },
  {
   "cell_type": "markdown",
   "metadata": {},
   "source": [
    "# Intersección\n",
    "<hr>"
   ]
  },
  {
   "cell_type": "code",
   "execution_count": 6,
   "metadata": {},
   "outputs": [],
   "source": [
    "EGFR_MAPK1 = pd.merge(EGFR, MAPK1, on = \"Molecule ChEMBL ID\")"
   ]
  },
  {
   "cell_type": "code",
   "execution_count": 8,
   "metadata": {},
   "outputs": [
    {
     "data": {
      "text/html": [
       "<div>\n",
       "<style scoped>\n",
       "    .dataframe tbody tr th:only-of-type {\n",
       "        vertical-align: middle;\n",
       "    }\n",
       "\n",
       "    .dataframe tbody tr th {\n",
       "        vertical-align: top;\n",
       "    }\n",
       "\n",
       "    .dataframe thead th {\n",
       "        text-align: right;\n",
       "    }\n",
       "</style>\n",
       "<table border=\"1\" class=\"dataframe\">\n",
       "  <thead>\n",
       "    <tr style=\"text-align: right;\">\n",
       "      <th></th>\n",
       "      <th>Molecule ChEMBL ID</th>\n",
       "      <th>Smiles</th>\n",
       "      <th>Standard Value_x</th>\n",
       "      <th>Standard Value_y</th>\n",
       "    </tr>\n",
       "  </thead>\n",
       "  <tbody>\n",
       "    <tr>\n",
       "      <th>0</th>\n",
       "      <td>CHEMBL24944</td>\n",
       "      <td>O=C(Nc1ccc(Br)cc1)c1cc(Br)cc(Br)c1O</td>\n",
       "      <td>2987.0</td>\n",
       "      <td>623.0</td>\n",
       "    </tr>\n",
       "    <tr>\n",
       "      <th>1</th>\n",
       "      <td>CHEMBL3884319</td>\n",
       "      <td>CC1(C)C(=O)N([C@H]2CCc3c(O)cccc32)c2nc(Nc3cccc...</td>\n",
       "      <td>10000.0</td>\n",
       "      <td>1826.0</td>\n",
       "    </tr>\n",
       "    <tr>\n",
       "      <th>2</th>\n",
       "      <td>CHEMBL388978</td>\n",
       "      <td>CN[C@@H]1C[C@H]2O[C@@](C)([C@@H]1OC)n1c3ccccc3...</td>\n",
       "      <td>78.0</td>\n",
       "      <td>370.0</td>\n",
       "    </tr>\n",
       "    <tr>\n",
       "      <th>3</th>\n",
       "      <td>CHEMBL461140</td>\n",
       "      <td>CN(C)CCOc1ccc(/C=C/c2cc(-c3cc4c(=O)[nH]cnc4[nH...</td>\n",
       "      <td>3300.0</td>\n",
       "      <td>2600.0</td>\n",
       "    </tr>\n",
       "    <tr>\n",
       "      <th>4</th>\n",
       "      <td>CHEMBL103667</td>\n",
       "      <td>Cc1ccc(-n2nc(C(C)(C)C)cc2NC(=O)Nc2ccc(OCCN3CCO...</td>\n",
       "      <td>3800.0</td>\n",
       "      <td>9200.0</td>\n",
       "    </tr>\n",
       "  </tbody>\n",
       "</table>\n",
       "</div>"
      ],
      "text/plain": [
       "  Molecule ChEMBL ID                                             Smiles  \\\n",
       "0        CHEMBL24944                O=C(Nc1ccc(Br)cc1)c1cc(Br)cc(Br)c1O   \n",
       "1      CHEMBL3884319  CC1(C)C(=O)N([C@H]2CCc3c(O)cccc32)c2nc(Nc3cccc...   \n",
       "2       CHEMBL388978  CN[C@@H]1C[C@H]2O[C@@](C)([C@@H]1OC)n1c3ccccc3...   \n",
       "3       CHEMBL461140  CN(C)CCOc1ccc(/C=C/c2cc(-c3cc4c(=O)[nH]cnc4[nH...   \n",
       "4       CHEMBL103667  Cc1ccc(-n2nc(C(C)(C)C)cc2NC(=O)Nc2ccc(OCCN3CCO...   \n",
       "\n",
       "   Standard Value_x  Standard Value_y  \n",
       "0            2987.0             623.0  \n",
       "1           10000.0            1826.0  \n",
       "2              78.0             370.0  \n",
       "3            3300.0            2600.0  \n",
       "4            3800.0            9200.0  "
      ]
     },
     "execution_count": 8,
     "metadata": {},
     "output_type": "execute_result"
    }
   ],
   "source": [
    "EGFR_MAPK1.head()"
   ]
  },
  {
   "cell_type": "code",
   "execution_count": 10,
   "metadata": {},
   "outputs": [],
   "source": [
    "EGFR_MAPK1.rename(columns={\"Standard Value_x\": \"IC50 EGFR\", \"Standard Value_y\": \"IC50 MAPK1\"}, inplace= True)"
   ]
  },
  {
   "cell_type": "code",
   "execution_count": 12,
   "metadata": {},
   "outputs": [],
   "source": [
    "EGFR_MAPK1.to_csv(\"U_EGFR_MAPK1.csv\", index=False)"
   ]
  },
  {
   "cell_type": "code",
   "execution_count": null,
   "metadata": {},
   "outputs": [],
   "source": []
  }
 ],
 "metadata": {
  "kernelspec": {
   "display_name": "Python 3",
   "language": "python",
   "name": "python3"
  },
  "language_info": {
   "codemirror_mode": {
    "name": "ipython",
    "version": 3
   },
   "file_extension": ".py",
   "mimetype": "text/x-python",
   "name": "python",
   "nbconvert_exporter": "python",
   "pygments_lexer": "ipython3",
   "version": "3.11.0"
  }
 },
 "nbformat": 4,
 "nbformat_minor": 2
}
