{
 "cells": [
  {
   "cell_type": "markdown",
   "metadata": {},
   "source": [
    "# Cargar datos\n",
    "<hr>"
   ]
  },
  {
   "cell_type": "code",
   "execution_count": 1,
   "metadata": {},
   "outputs": [],
   "source": [
    "import pandas as pd"
   ]
  },
  {
   "cell_type": "code",
   "execution_count": 2,
   "metadata": {},
   "outputs": [],
   "source": [
    "EGFR = pd.read_csv(\"../Limpios/EGFR_limpio.csv\")"
   ]
  },
  {
   "cell_type": "code",
   "execution_count": 3,
   "metadata": {},
   "outputs": [],
   "source": [
    "SRC = pd.read_csv(\"../Limpios/SRC_limpio.csv\")"
   ]
  },
  {
   "cell_type": "code",
   "execution_count": 4,
   "metadata": {},
   "outputs": [],
   "source": [
    "STAT3 = pd.read_csv(\"../Limpios/STAT3_limpio.csv\")"
   ]
  },
  {
   "cell_type": "markdown",
   "metadata": {},
   "source": [
    "# Seleccionar columnas\n",
    "<hr>"
   ]
  },
  {
   "cell_type": "code",
   "execution_count": 5,
   "metadata": {},
   "outputs": [],
   "source": [
    "EGFR = EGFR[[\"Molecule ChEMBL ID\", 'Smiles',  'Standard Value']]"
   ]
  },
  {
   "cell_type": "code",
   "execution_count": 6,
   "metadata": {},
   "outputs": [],
   "source": [
    "SRC = SRC[[\"Molecule ChEMBL ID\", 'Standard Value']]"
   ]
  },
  {
   "cell_type": "code",
   "execution_count": 7,
   "metadata": {},
   "outputs": [],
   "source": [
    "STAT3 = STAT3[[\"Molecule ChEMBL ID\", 'Standard Value']]"
   ]
  },
  {
   "cell_type": "markdown",
   "metadata": {},
   "source": [
    "# Intersección\n",
    "<hr>"
   ]
  },
  {
   "cell_type": "code",
   "execution_count": 9,
   "metadata": {},
   "outputs": [],
   "source": [
    "EGFR_SRC = pd.merge(EGFR, SRC, on= \"Molecule ChEMBL ID\")"
   ]
  },
  {
   "cell_type": "code",
   "execution_count": 10,
   "metadata": {},
   "outputs": [],
   "source": [
    "EGFR_SRC_STAT3 = pd.merge(EGFR_SRC, STAT3, on= \"Molecule ChEMBL ID\")"
   ]
  },
  {
   "cell_type": "code",
   "execution_count": 13,
   "metadata": {},
   "outputs": [],
   "source": [
    "EGFR_SRC_STAT3.rename(columns={\"Standard Value_x\": \"IC50 EGFR\", \"Standard Value_y\": \"IC50 SRC\", \"Standard Value\": \"IC50 STAT3\"}, inplace=True)"
   ]
  },
  {
   "cell_type": "code",
   "execution_count": 17,
   "metadata": {},
   "outputs": [],
   "source": [
    "EGFR_SRC_STAT3.to_csv(\"EGFR_SRC_STAT3.csv\", index=False)"
   ]
  },
  {
   "cell_type": "code",
   "execution_count": 16,
   "metadata": {},
   "outputs": [
    {
     "data": {
      "text/html": [
       "<div>\n",
       "<style scoped>\n",
       "    .dataframe tbody tr th:only-of-type {\n",
       "        vertical-align: middle;\n",
       "    }\n",
       "\n",
       "    .dataframe tbody tr th {\n",
       "        vertical-align: top;\n",
       "    }\n",
       "\n",
       "    .dataframe thead th {\n",
       "        text-align: right;\n",
       "    }\n",
       "</style>\n",
       "<table border=\"1\" class=\"dataframe\">\n",
       "  <thead>\n",
       "    <tr style=\"text-align: right;\">\n",
       "      <th></th>\n",
       "      <th>Molecule ChEMBL ID</th>\n",
       "      <th>Smiles</th>\n",
       "      <th>IC50 EGFR</th>\n",
       "      <th>IC50 SRC</th>\n",
       "      <th>IC50 STAT3</th>\n",
       "    </tr>\n",
       "  </thead>\n",
       "  <tbody>\n",
       "    <tr>\n",
       "      <th>0</th>\n",
       "      <td>CHEMBL44</td>\n",
       "      <td>O=c1c(-c2ccc(O)cc2)coc2cc(O)cc(O)c12</td>\n",
       "      <td>1000.0</td>\n",
       "      <td>75000.0</td>\n",
       "      <td>24800.0</td>\n",
       "    </tr>\n",
       "    <tr>\n",
       "      <th>1</th>\n",
       "      <td>CHEMBL1448</td>\n",
       "      <td>O=C(Nc1ccc([N+](=O)[O-])cc1Cl)c1cc(Cl)ccc1O</td>\n",
       "      <td>10500.0</td>\n",
       "      <td>10500.0</td>\n",
       "      <td>250.0</td>\n",
       "    </tr>\n",
       "  </tbody>\n",
       "</table>\n",
       "</div>"
      ],
      "text/plain": [
       "  Molecule ChEMBL ID                                       Smiles  IC50 EGFR  \\\n",
       "0           CHEMBL44         O=c1c(-c2ccc(O)cc2)coc2cc(O)cc(O)c12     1000.0   \n",
       "1         CHEMBL1448  O=C(Nc1ccc([N+](=O)[O-])cc1Cl)c1cc(Cl)ccc1O    10500.0   \n",
       "\n",
       "   IC50 SRC  IC50 STAT3  \n",
       "0   75000.0     24800.0  \n",
       "1   10500.0       250.0  "
      ]
     },
     "execution_count": 16,
     "metadata": {},
     "output_type": "execute_result"
    }
   ],
   "source": [
    "EGFR_SRC_STAT3"
   ]
  },
  {
   "cell_type": "code",
   "execution_count": null,
   "metadata": {},
   "outputs": [],
   "source": []
  }
 ],
 "metadata": {
  "kernelspec": {
   "display_name": "Python 3",
   "language": "python",
   "name": "python3"
  },
  "language_info": {
   "codemirror_mode": {
    "name": "ipython",
    "version": 3
   },
   "file_extension": ".py",
   "mimetype": "text/x-python",
   "name": "python",
   "nbconvert_exporter": "python",
   "pygments_lexer": "ipython3",
   "version": "3.11.0"
  }
 },
 "nbformat": 4,
 "nbformat_minor": 2
}
