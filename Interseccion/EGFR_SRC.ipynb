{
 "cells": [
  {
   "cell_type": "markdown",
   "metadata": {},
   "source": [
    "# Cargar datos\n",
    "<hr>"
   ]
  },
  {
   "cell_type": "code",
   "execution_count": 2,
   "metadata": {},
   "outputs": [],
   "source": [
    "import pandas as pd"
   ]
  },
  {
   "cell_type": "code",
   "execution_count": 3,
   "metadata": {},
   "outputs": [],
   "source": [
    "EGFR = pd.read_csv(\"../Limpios/EGFR_limpio.csv\")"
   ]
  },
  {
   "cell_type": "code",
   "execution_count": 4,
   "metadata": {},
   "outputs": [],
   "source": [
    "SRC = pd.read_csv(\"../Limpios/SRC_limpio.csv\")"
   ]
  },
  {
   "cell_type": "markdown",
   "metadata": {},
   "source": [
    "# Seleccionar columnas\n",
    "<hr>"
   ]
  },
  {
   "cell_type": "code",
   "execution_count": 5,
   "metadata": {},
   "outputs": [],
   "source": [
    "EGFR = EGFR[[\"Molecule ChEMBL ID\", 'Smiles',  'Standard Value']]"
   ]
  },
  {
   "cell_type": "code",
   "execution_count": 7,
   "metadata": {},
   "outputs": [],
   "source": [
    "SRC = SRC[[\"Molecule ChEMBL ID\", 'Standard Value']]"
   ]
  },
  {
   "cell_type": "markdown",
   "metadata": {},
   "source": [
    "# Intersección\n",
    "<hr>"
   ]
  },
  {
   "cell_type": "code",
   "execution_count": 8,
   "metadata": {},
   "outputs": [],
   "source": [
    "EGFR_SRC = pd.merge(EGFR, SRC, on= \"Molecule ChEMBL ID\")"
   ]
  },
  {
   "cell_type": "code",
   "execution_count": 10,
   "metadata": {},
   "outputs": [
    {
     "data": {
      "text/html": [
       "<div>\n",
       "<style scoped>\n",
       "    .dataframe tbody tr th:only-of-type {\n",
       "        vertical-align: middle;\n",
       "    }\n",
       "\n",
       "    .dataframe tbody tr th {\n",
       "        vertical-align: top;\n",
       "    }\n",
       "\n",
       "    .dataframe thead th {\n",
       "        text-align: right;\n",
       "    }\n",
       "</style>\n",
       "<table border=\"1\" class=\"dataframe\">\n",
       "  <thead>\n",
       "    <tr style=\"text-align: right;\">\n",
       "      <th></th>\n",
       "      <th>Molecule ChEMBL ID</th>\n",
       "      <th>Smiles</th>\n",
       "      <th>Standard Value_x</th>\n",
       "      <th>Standard Value_y</th>\n",
       "    </tr>\n",
       "  </thead>\n",
       "  <tbody>\n",
       "    <tr>\n",
       "      <th>0</th>\n",
       "      <td>CHEMBL29197</td>\n",
       "      <td>COc1cc2ncnc(Nc3cccc(Br)c3)c2cc1OC</td>\n",
       "      <td>7.000000e+01</td>\n",
       "      <td>1400.00</td>\n",
       "    </tr>\n",
       "    <tr>\n",
       "      <th>1</th>\n",
       "      <td>CHEMBL253292</td>\n",
       "      <td>CCN(CC)CCOc1ccc(Nc2cc(NC(=O)Nc3c(Cl)cccc3Cl)nc...</td>\n",
       "      <td>3.800000e+02</td>\n",
       "      <td>66.00</td>\n",
       "    </tr>\n",
       "    <tr>\n",
       "      <th>2</th>\n",
       "      <td>CHEMBL301612</td>\n",
       "      <td>Cn1c(=O)c(-c2c(Cl)cccc2Cl)cc2cnc(Nc3ccccc3)nc21</td>\n",
       "      <td>2.600000e+02</td>\n",
       "      <td>16.00</td>\n",
       "    </tr>\n",
       "    <tr>\n",
       "      <th>3</th>\n",
       "      <td>CHEMBL45827</td>\n",
       "      <td>CCN(CC)CCCCNc1ncc2cc(-c3c(Cl)cccc3Cl)c(NC(=O)N...</td>\n",
       "      <td>2.400000e+02</td>\n",
       "      <td>44.00</td>\n",
       "    </tr>\n",
       "    <tr>\n",
       "      <th>4</th>\n",
       "      <td>CHEMBL263528</td>\n",
       "      <td>NC(=O)CN1CCC(n2cc(-c3cccc(O)c3)c3c(N)ncnc32)CC1</td>\n",
       "      <td>1.700000e+02</td>\n",
       "      <td>1.00</td>\n",
       "    </tr>\n",
       "    <tr>\n",
       "      <th>...</th>\n",
       "      <td>...</td>\n",
       "      <td>...</td>\n",
       "      <td>...</td>\n",
       "      <td>...</td>\n",
       "    </tr>\n",
       "    <tr>\n",
       "      <th>484</th>\n",
       "      <td>CHEMBL4569508</td>\n",
       "      <td>O=C(NCC(F)(F)F)c1cc(-c2cnn3cc(-c4ccc(OCCN5CCCC...</td>\n",
       "      <td>1.100000e+03</td>\n",
       "      <td>37.00</td>\n",
       "    </tr>\n",
       "    <tr>\n",
       "      <th>485</th>\n",
       "      <td>CHEMBL5073622</td>\n",
       "      <td>C=CC(=O)N1CC[C@H](Oc2nc(-c3n[nH]c(=O)[nH]3)cc3...</td>\n",
       "      <td>5.012000e-09</td>\n",
       "      <td>630.96</td>\n",
       "    </tr>\n",
       "    <tr>\n",
       "      <th>486</th>\n",
       "      <td>CHEMBL5271284</td>\n",
       "      <td>C=CC(=O)N1CCC[C@H](n2nc(-c3ccc(Oc4ccccc4)cc3C)...</td>\n",
       "      <td>1.970000e+02</td>\n",
       "      <td>33.50</td>\n",
       "    </tr>\n",
       "    <tr>\n",
       "      <th>487</th>\n",
       "      <td>CHEMBL311959</td>\n",
       "      <td>COc1cc2nccc(Nc3cc(OC)c(OC)c(OC)c3)c2cc1OC</td>\n",
       "      <td>2.700000e+04</td>\n",
       "      <td>200.00</td>\n",
       "    </tr>\n",
       "    <tr>\n",
       "      <th>488</th>\n",
       "      <td>CHEMBL475584</td>\n",
       "      <td>COc1cccc(-c2cn(-c3ccc(CCN4CCC(O)CC4)cc3)c3ncnc...</td>\n",
       "      <td>1.500000e+02</td>\n",
       "      <td>19.95</td>\n",
       "    </tr>\n",
       "  </tbody>\n",
       "</table>\n",
       "<p>489 rows × 4 columns</p>\n",
       "</div>"
      ],
      "text/plain": [
       "    Molecule ChEMBL ID                                             Smiles  \\\n",
       "0          CHEMBL29197                  COc1cc2ncnc(Nc3cccc(Br)c3)c2cc1OC   \n",
       "1         CHEMBL253292  CCN(CC)CCOc1ccc(Nc2cc(NC(=O)Nc3c(Cl)cccc3Cl)nc...   \n",
       "2         CHEMBL301612    Cn1c(=O)c(-c2c(Cl)cccc2Cl)cc2cnc(Nc3ccccc3)nc21   \n",
       "3          CHEMBL45827  CCN(CC)CCCCNc1ncc2cc(-c3c(Cl)cccc3Cl)c(NC(=O)N...   \n",
       "4         CHEMBL263528    NC(=O)CN1CCC(n2cc(-c3cccc(O)c3)c3c(N)ncnc32)CC1   \n",
       "..                 ...                                                ...   \n",
       "484      CHEMBL4569508  O=C(NCC(F)(F)F)c1cc(-c2cnn3cc(-c4ccc(OCCN5CCCC...   \n",
       "485      CHEMBL5073622  C=CC(=O)N1CC[C@H](Oc2nc(-c3n[nH]c(=O)[nH]3)cc3...   \n",
       "486      CHEMBL5271284  C=CC(=O)N1CCC[C@H](n2nc(-c3ccc(Oc4ccccc4)cc3C)...   \n",
       "487       CHEMBL311959          COc1cc2nccc(Nc3cc(OC)c(OC)c(OC)c3)c2cc1OC   \n",
       "488       CHEMBL475584  COc1cccc(-c2cn(-c3ccc(CCN4CCC(O)CC4)cc3)c3ncnc...   \n",
       "\n",
       "     Standard Value_x  Standard Value_y  \n",
       "0        7.000000e+01           1400.00  \n",
       "1        3.800000e+02             66.00  \n",
       "2        2.600000e+02             16.00  \n",
       "3        2.400000e+02             44.00  \n",
       "4        1.700000e+02              1.00  \n",
       "..                ...               ...  \n",
       "484      1.100000e+03             37.00  \n",
       "485      5.012000e-09            630.96  \n",
       "486      1.970000e+02             33.50  \n",
       "487      2.700000e+04            200.00  \n",
       "488      1.500000e+02             19.95  \n",
       "\n",
       "[489 rows x 4 columns]"
      ]
     },
     "execution_count": 10,
     "metadata": {},
     "output_type": "execute_result"
    }
   ],
   "source": [
    "EGFR_SRC"
   ]
  },
  {
   "cell_type": "code",
   "execution_count": 12,
   "metadata": {},
   "outputs": [],
   "source": [
    "EGFR_SRC.rename(columns= {\"Standard Value_x\": \"IC50 EGFR\", \"Standard Value_y\": \"IC50 SRC\"}, inplace= True)"
   ]
  },
  {
   "cell_type": "code",
   "execution_count": 14,
   "metadata": {},
   "outputs": [],
   "source": [
    "EGFR_SRC.to_csv(\"U_EGFR_SRC.csv\", index=False)"
   ]
  },
  {
   "cell_type": "code",
   "execution_count": null,
   "metadata": {},
   "outputs": [],
   "source": []
  }
 ],
 "metadata": {
  "kernelspec": {
   "display_name": "Python 3",
   "language": "python",
   "name": "python3"
  },
  "language_info": {
   "codemirror_mode": {
    "name": "ipython",
    "version": 3
   },
   "file_extension": ".py",
   "mimetype": "text/x-python",
   "name": "python",
   "nbconvert_exporter": "python",
   "pygments_lexer": "ipython3",
   "version": "3.11.0"
  }
 },
 "nbformat": 4,
 "nbformat_minor": 2
}
